{
 "cells": [
  {
   "cell_type": "markdown",
   "metadata": {},
   "source": [
    "# \"Instalando TensorFlow 2.x GPU en Windows 10\"\n",
    ">  \"Este artículo muestra cómo instalar y configurar TensorFlow 2.x en Windows 10 con una tarjeta de video NVIDIA GeForce.\"\n",
    "\n",
    "- toc:true\n",
    "- branch: master\n",
    "- badges: false\n",
    "- image: images/tf_win10.png\n",
    "- comments: true\n",
    "- author: David Lopera\n",
    "- permalink: /installing-tf-win-gpu/\n",
    "- categories: [tensorflow, windows]"
   ]
  },
  {
   "cell_type": "markdown",
   "metadata": {},
   "source": [
    "Este artículo muestra cómo instalar y configurar TensorFlow 2 en Windows 10 con una tarjeta de video NVIDIA GeForce.\n",
    "\n",
    "Las características del hardware de mi equipo son:\n",
    "- **Sistema operativo:** Windows 10 Pro - Versión 20H2.\n",
    "- **Procesador:** Intel Core i7-8750H CPU @ 2.20GHz 2.21 GHz.\n",
    "- **RAM:** 32 GB.\n",
    "- **Disco duro:** 256 GB SSD.\n",
    "- **Tarjeta video:** NVIDIA GeForce GTX 1060."
   ]
  },
  {
   "cell_type": "markdown",
   "metadata": {},
   "source": [
    "## Prerequisitos\n",
    "- [Anaconda](https://www.anaconda.com/products/individual) instalado. Para esta guía se tiene instalada la versión Anaconda 4.9.2 + Python 3.8.5.\n",
    "- [Visual Studio 2019](https://visualstudio.microsoft.com/vs/community/) instalado. Requerido para instalación de CUDA Toolkit."
   ]
  },
  {
   "cell_type": "markdown",
   "metadata": {},
   "source": [
    "## Verificar compatibilidad de tarjeta de video\n",
    "\n",
    "Verificar la compatibilidad de la tarjeta de video que se tenga con TensorFlow es de los primeros pasos a realizar. En el caso de esta guía se verificará la compatibilidad para la tarjeta de video **NVIDIA GeForce GTX 1060**.\n",
    "\n",
    "a. En el link https://developer.nvidia.com/cuda-gpus se debe buscar la referencia de la tarjeta de video para conocer si es compatible:\n",
    "\n",
    "![](https://i.ibb.co/wWSJF2j/video-card-capability.png)\n",
    "\n",
    "b. La tarjeta de video GTX 1060 cuenta con un \"Compute Capability\" de 6.1. Lo mínimo requerido es 3.5. Se pueden revisar estos requisitos en el siguiente link https://www.tensorflow.org/install/gpu#hardware_requirements.\n",
    "\n",
    "![](https://i.ibb.co/T1zNgZK/tf-hw-reqs.png)"
   ]
  },
  {
   "cell_type": "markdown",
   "metadata": {},
   "source": [
    "## Verificar los requerimientos de software\n",
    "\n",
    "a. En la documentación oficial de TensorFlow se pueden validar los requerimientos de software mínimos requeridos:\n",
    "\n",
    "- https://www.tensorflow.org/install/gpu#software_requirements\n",
    "\n",
    "![](https://i.ibb.co/k0qDhDd/tf-sw-reqs.png)\n",
    "\n",
    "- En esta guía se instalarán las siguientes versiones:\n",
    "    - **TensorFlow:** 2.4.0.\n",
    "    - **CUDA Toolkit:** 11.0.\n",
    "    - **cuDNN:** 8.0.4."
   ]
  },
  {
   "cell_type": "markdown",
   "metadata": {},
   "source": [
    "## Instalar Visual Studio\n",
    "\n",
    "a. \"CUDA Toolkit 11.0\" tiene como requisito tener instalado Visual Studio. Si se revisa la documentación de CUDA en https://docs.nvidia.com/cuda/archive/11.0/cuda-installation-guide-microsoft-windows/, el Visual Studio requerido es 2019.\n",
    "\n",
    "![](https://i.ibb.co/yVHgwZ3/cuda-toolkit-reqs.png)\n",
    "\n",
    "b. Si se hace caso omiso al paso anterior, al momento de estar instalando CUDA se podría visualizar un mensaje como el siguiente:\n",
    "\n",
    "![](https://i.ibb.co/cCTRD1d/cuda-install-error.png)"
   ]
  },
  {
   "cell_type": "markdown",
   "metadata": {},
   "source": [
    "## Actualizar los drivers de la tarjeta de video\n",
    "\n",
    "a. Instalar/Actualizar drivers de la tarjeta de video:\n",
    "\n",
    "**Opción 1:** Utilizando el programa \"NVIDIA GeForce Experience\". La versión instalada del driver al momento de crear esta guía es la **v460.89**:\n",
    "\n",
    "![](https://i.ibb.co/NtYwJvm/geforce-experience.png)\n",
    "\n",
    "**Opción 2:** Buscar el driver en la página Web de NVIDIA https://www.nvidia.com/Download/index.aspx?lang=en-us:\n",
    "\n",
    "![](https://i.ibb.co/6BwqMQw/nvidia-drivers-download.png)\n",
    "\n",
    "b. Verificar los drivers instalados con el comando `nvidia-smi` en la consola:\n",
    "\n",
    "![](https://i.ibb.co/D47Smwc/nvidia-smi.png)\n",
    "\n",
    "> Nota: En caso de no tener acceso al comando `nvidia-smi` añadir la ruta \"C:\\Program Files\\NVIDIA Corporation\\NVSMI\" a la variable de entorno path."
   ]
  },
  {
   "cell_type": "markdown",
   "metadata": {},
   "source": [
    "## Instalar CUDA Toolkit\n",
    "\n",
    "a. Descargar CUDA v11.0 del sitio de NVIDIA https://developer.nvidia.com/cuda-11.0-download-archive:\n",
    "\n",
    "![](https://i.ibb.co/tLk45x4/cuda-toolkit-download.png)\n",
    "\n",
    "b. Elegir el instalador base de CUDA e iniciar la instalación:\n",
    "\n",
    "- Elegir la opción de instalación Custom:\n",
    "\n",
    "![](https://i.ibb.co/Y0QwXzz/cuda-install-1.png)\n",
    "\n",
    "- Solo instalar los componentes de CUDA. NO instalar los componentes \"NVIDIA GeForce Experience\", \"Driver Components\" y \"Other Components\" siempre y cuando las versiones instaladas en el sistema sean mayores que las que se sugiere el instalador:\n",
    "\n",
    "![](https://i.ibb.co/zVPVFWH/cuda-install-2.png)\n",
    "\n",
    "- Para mayor información de este paso, se puede revisar el siguiente link https://docs.nvidia.com/cuda/cuda-toolkit-release-notes/index.html para validar que CUDA 11.0 soporta versiones >= 450 del driver de la tarjeta de video en Windows:\n",
    "\n",
    "![](https://i.ibb.co/zrhN4nw/cuda-drivers-comp.png)\n",
    "\n",
    "- Si todo ha salido correctamente con la instalación, se debe visualizar la siguiente ventana:\n",
    "\n",
    "![](https://i.ibb.co/4PqGTs7/cuda-install-3.png)\n",
    "\n",
    "- Ir a la ruta donde quedó instalado CUDA (C:\\Program Files\\NVIDIA GPU Computing Toolkit\\CUDA\\v11.0). Esta ruta es importante para pasos posteriores, ya que se debe adicionar a las variables de entorno de Windows.\n",
    "\n",
    "c. Para verificar la instalación de CUDA se puede ejecutar el siguiente comando `nvcc --version`:\n",
    "\n",
    "![](https://i.ibb.co/6DYBJ9X/nvcc-version.png)"
   ]
  },
  {
   "cell_type": "markdown",
   "metadata": {},
   "source": [
    "## Instalar cuDNN\n",
    "\n",
    "a. Con base a los requisitos mencionados anteriormente, la versión a instalar de cuDNN es la **8.0.4**.\n",
    "\n",
    "b. Descargar cuDNN desde https://developer.nvidia.com/rdp/cudnn-archive. Requiere Inicio de sesión o Registro (Gratis) para poder obtener los instaladores.\n",
    "\n",
    "c. Se descarga paquete **cuDDN Library for Windows 10** como se visualiza en la siguiente imagen:\n",
    "\n",
    "![](https://i.ibb.co/TBC9Gm1/cudnn-download.png)\n",
    "\n",
    "d. En el paso anterior se descarga un archivo **\"cudnn-11.0-windows-x64-v8.0.4.30.zip\"** y se procede a descomprimir el archivo.\n",
    "\n",
    "e. Siguiendo el \"Paso 3\" de la documentación oficial de NVIDIA en el link https://docs.nvidia.com/deeplearning/sdk/cudnn-install/index.html#installwindows, se realiza lo siguiente:\n",
    "\n",
    "- Se copia el archivo **\"\\cudnn-11.0-windows-x64-v8.0.4.30\\cuda\\bin\\cudnn64_8.dll\"** en la ruta **\"C:\\Program Files\\NVIDIA GPU Computing Toolkit\\CUDA\\v11.0\\bin\"**.\n",
    "- Se copia el archivo **\"\\cudnn-11.0-windows-x64-v8.0.4.30\\cuda\\include\\cudnn.h\"** en la ruta **\"C:\\Program Files\\NVIDIA GPU Computing Toolkit\\CUDA\\v11.0\\include\"**.\n",
    "- Se copia el archivo **\"\\cudnn-11.0-windows-x64-v8.0.4.30\\cuda\\lib\\x64\\cudnn.lib\"** en la ruta **\"C:\\Program Files\\NVIDIA GPU Computing Toolkit\\CUDA\\v11.0\\lib\\x64\"**.\n",
    "\n",
    "f. Adicionar/Verificar en la variable de entorno PATH las carpetas **\"C:\\Program Files\\NVIDIA GPU Computing Toolkit\\CUDA\\v11.0\\bin\"** y **\"C:\\Program Files\\NVIDIA GPU Computing Toolkit\\CUDA\\v11.0\\libnvvp\"**:\n",
    "\n",
    "![](https://i.ibb.co/x8fJ0Wy/cuda-env-vars.png)"
   ]
  },
  {
   "cell_type": "markdown",
   "metadata": {},
   "source": [
    "## Crear el \"conda environment\"\n",
    "\n",
    "a. Para crear el *environment* donde se va a usar TensorFlow se debe tener en cuenta que las versiones de Python soportadas son 3.6-3.8, tal y como se ve en la siguiente tabla:\n",
    "\n",
    "![](https://i.ibb.co/JBh6Cx1/tf-gpu-python.png)\n",
    "\n",
    "b. Abrir la consola de comandos o Anaconda Prompt para crear un nuevo ambiente indicando la versión de Python 3.8. Para efectos de esta guía se crea un *environment* llamado **tensorflow**:\n",
    "\n",
    "- `conda create --name tensorflow python=3.8`\n",
    "\n",
    "![](https://i.ibb.co/tXNTqrV/conda-create-env.png)\n",
    "\n",
    "c. Verificar los \"environments\" creados en Anaconda con el comando `conda env list`:\n",
    "\n",
    "![](https://i.ibb.co/mR1k00f/conda-env-list.png)\n",
    "\n",
    "d. Activar el *environment* con el comando `conda activate tensorflow`."
   ]
  },
  {
   "cell_type": "markdown",
   "metadata": {},
   "source": [
    "## Instalar TensorFlow con soporte GPU\n",
    "\n",
    "a. Escribir el comando `pip install tensorflow-gpu==2.4.0` en \"Anaconda Prompt\" dentro del *environment* creado:\n",
    "\n",
    "![](https://i.ibb.co/1RWhb3f/pip-install-tfgpu.png)\n",
    "\n",
    "b. Al terminar el punto anterior, se procede a probar la instalación de TensorFlow por medio de los siguientes comandos en la consola:\n",
    "\n",
    "```shell\n",
    "% python\n",
    ">>> import tensorflow as tf\n",
    ">>> tf.test.is_gpu_available()\n",
    "```\n",
    "\n",
    "![](https://i.ibb.co/nDLdf69/tfgpu-test.png)"
   ]
  },
  {
   "cell_type": "markdown",
   "metadata": {},
   "source": [
    "## Referencias\n",
    "\n",
    "- [How to install TensorFlow 2.0 on Ubuntu](https://www.pyimagesearch.com/2019/12/09/how-to-install-tensorflow-2-0-on-ubuntu/)\n",
    "- [Install TensorFlow with GPU Support on Windows 10 (without a full CUDA install)](https://www.pugetsystems.com/labs/hpc/Install-TensorFlow-with-GPU-Support-on-Windows-10-without-a-full-CUDA-install-1172/)"
   ]
  },
  {
   "cell_type": "markdown",
   "metadata": {},
   "source": [
    "Espero este artículo haya sido de gran ayuda. \n",
    "Gracias por leerlo!\n",
    "\n",
    "**“Thank you, namaste, and good luck”**"
   ]
  }
 ],
 "metadata": {
  "kernelspec": {
   "display_name": "Python 3",
   "language": "python",
   "name": "python3"
  },
  "language_info": {
   "codemirror_mode": {
    "name": "ipython",
    "version": 3
   },
   "file_extension": ".py",
   "mimetype": "text/x-python",
   "name": "python",
   "nbconvert_exporter": "python",
   "pygments_lexer": "ipython3",
   "version": "3.9.1"
  }
 },
 "nbformat": 4,
 "nbformat_minor": 4
}
